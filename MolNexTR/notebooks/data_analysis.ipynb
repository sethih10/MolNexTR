{
 "cells": [
  {
   "cell_type": "code",
   "execution_count": 3,
   "metadata": {},
   "outputs": [],
   "source": [
    "import sys\n",
    "sys.path.append(\"/scratch/phys/sin/sethih1/hustles/MolNexTR/MolNexTR\")"
   ]
  },
  {
   "cell_type": "code",
   "execution_count": 5,
   "metadata": {},
   "outputs": [],
   "source": [
    "from dataloading import AFMData, get_datasets, afm_collate_fn\n",
    "\n",
    "import torch\n",
    "from torch.utils.data import DataLoader"
   ]
  },
  {
   "cell_type": "code",
   "execution_count": 6,
   "metadata": {},
   "outputs": [],
   "source": [
    "dataset = AFMData(data_path = '/scratch/phys/project/sin/hackathon/data/afm.h5')"
   ]
  },
  {
   "cell_type": "code",
   "execution_count": 7,
   "metadata": {},
   "outputs": [],
   "source": [
    "afm_loader = DataLoader(dataset, collate_fn = afm_collate_fn, batch_size = 32, shuffle = True, num_workers = 0, pin_memory=True)"
   ]
  },
  {
   "cell_type": "code",
   "execution_count": 8,
   "metadata": {},
   "outputs": [
    {
     "name": "stdout",
     "output_type": "stream",
     "text": [
      "3\n",
      "Shape of the batch: torch.Size([32, 10, 128, 128])\n",
      "Number of images:  10\n",
      "Image size:  128\n",
      "Number of atoms(nodes) in the molecule:  20\n",
      "Number of bonds/edges in the molecule:  20\n"
     ]
    }
   ],
   "source": [
    "x = next(iter(afm_loader))\n",
    "print(len(x))\n",
    "print(f\"Shape of the batch: {x[0].shape}\")\n",
    "print(\"Number of images: \", x[0].shape[1])\n",
    "print(\"Image size: \", x[0].shape[2])\n",
    "print(\"Number of atoms(nodes) in the molecule: \", len(x[1][0]))\n",
    "print(\"Number of bonds/edges in the molecule: \", len(x[2][0]))"
   ]
  },
  {
   "cell_type": "code",
   "execution_count": 1,
   "metadata": {},
   "outputs": [],
   "source": [
    "import sys\n",
    "sys.path.append(\"/scratch/phys/sin/sethih1/hustles/MolNexTR\")"
   ]
  },
  {
   "cell_type": "code",
   "execution_count": null,
   "metadata": {},
   "outputs": [],
   "source": [
    "from MolNexTR.dataset import TrainDataset\n",
    "from MolNexTR.tokenization import get_tokenizer\n",
    "import pandas as pd"
   ]
  },
  {
   "cell_type": "code",
   "execution_count": null,
   "metadata": {},
   "outputs": [],
   "source": [
    "args = {}\n",
    "data_path = '/scratch/phys/sin/sethih1/molnext_data_file/train_pubchem.csv'\n",
    "train_df = pd.read_csv(data_path)\n",
    "args.formats = ['chartok_coords', 'edges']\n",
    "tokenizer = get_tokenizer(args)\n",
    "train_dataset = TrainDataset(args, train_df, tokenizer, split='train', dynamic_indigo=args.dynamic_indigo)"
   ]
  }
 ],
 "metadata": {
  "kernelspec": {
   "display_name": "Python 3",
   "language": "python",
   "name": "python3"
  },
  "language_info": {
   "codemirror_mode": {
    "name": "ipython",
    "version": 3
   },
   "file_extension": ".py",
   "mimetype": "text/x-python",
   "name": "python",
   "nbconvert_exporter": "python",
   "pygments_lexer": "ipython3",
   "version": "3.8.20"
  }
 },
 "nbformat": 4,
 "nbformat_minor": 2
}
